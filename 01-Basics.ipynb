{
 "cells": [
  {
   "cell_type": "markdown",
   "metadata": {},
   "source": [
    "Add IdentificationToolbox Package to Julia "
   ]
  },
  {
   "cell_type": "code",
   "execution_count": null,
   "metadata": {
    "collapsed": false
   },
   "outputs": [],
   "source": [
    "Pkg.rm(\"IdentificationToolbox\")\n",
    "Pkg.rm(\"ControlCore\")\n",
    "Pkg.rm(\"ControlToolbox\")\n",
    "Pkg.rm(\"Slicot\")\n",
    "Pkg.clone(\"http://github.com/KTH-AC/ControlCore.jl\")\n",
    "Pkg.clone(\"http://github.com/neveritt/ControlToolbox.jl\")\n",
    "Pkg.checkout(\"ControlToolbox\",\"lsim\")\n",
    "Pkg.clone(\"http://github.com/neveritt/IdentificationToolbox.jl\")\n",
    "Pkg.clone(\"http://github.com/aytekinar/Slicot.jl\")\n",
    "Pkg.build(\"Slicot\")\n",
    "Pkg.add(\"Polynomials\")\n",
    "Pkg.add(\"ToeplitzMatrices\")\n",
    "Pkg.add(\"PyPlot\")\n",
    "Pkg.update()"
   ]
  },
  {
   "cell_type": "markdown",
   "metadata": {},
   "source": [
    "Load the packages"
   ]
  },
  {
   "cell_type": "code",
   "execution_count": null,
   "metadata": {
    "collapsed": false
   },
   "outputs": [],
   "source": [
    "using IdentificationToolbox\n",
    "using ControlCore\n",
    "using PyPlot"
   ]
  },
  {
   "cell_type": "markdown",
   "metadata": {},
   "source": [
    "Define the true system"
   ]
  },
  {
   "cell_type": "code",
   "execution_count": null,
   "metadata": {
    "collapsed": false
   },
   "outputs": [],
   "source": [
    "b = [0.1, 0.3, 0.2]\n",
    "c = [0.5, 0.08]\n",
    "d = [0.8, 0.1]\n",
    "f = [0.5, 0.2, 0.1]\n",
    "B = [0;b]\n",
    "C = [1;c]\n",
    "D = [1;d]\n",
    "F = [1;f]\n",
    "Ts = 0.1\n",
    "nk = 1;"
   ]
  },
  {
   "cell_type": "markdown",
   "metadata": {},
   "source": [
    "Create some data and save the data in an iddata object"
   ]
  },
  {
   "cell_type": "code",
   "execution_count": null,
   "metadata": {
    "collapsed": false
   },
   "outputs": [],
   "source": [
    "N = 1000\n",
    "u = randn(N)\n",
    "λ = 1\n",
    "e = sqrt(λ)*randn(N)\n",
    "y = filt(B,F,u) + filt(C,D,e)\n",
    "data = iddata(y,u,Ts)"
   ]
  },
  {
   "cell_type": "markdown",
   "metadata": {
    "collapsed": true
   },
   "source": [
    "Identify an arx model"
   ]
  },
  {
   "cell_type": "code",
   "execution_count": null,
   "metadata": {
    "collapsed": false
   },
   "outputs": [],
   "source": [
    "na, nb = 5, 5\n",
    "n = [na; nb; nk]\n",
    "arx55 = arx(data,n)\n"
   ]
  },
  {
   "cell_type": "markdown",
   "metadata": {
    "collapsed": true
   },
   "source": [
    "Identify an armax model (initialized by iv4)"
   ]
  },
  {
   "cell_type": "code",
   "execution_count": null,
   "metadata": {
    "collapsed": false
   },
   "outputs": [],
   "source": [
    "na, nb, nc = 3, 3, 3\n",
    "n = [na; nb; nc; nk]\n",
    "armax333 = armax(data,n)"
   ]
  },
  {
   "cell_type": "markdown",
   "metadata": {},
   "source": [
    "BJ model (initialized at true parameters)"
   ]
  },
  {
   "cell_type": "code",
   "execution_count": null,
   "metadata": {
    "collapsed": false
   },
   "outputs": [],
   "source": [
    "nb, nc, nd, nf = 3, 2, 2, 3\n",
    "n = [nb; nc; nd; nf; nk]\n",
    "bj3223 = pem(data, n, [b;c;d;f], BJ())"
   ]
  },
  {
   "cell_type": "markdown",
   "metadata": {},
   "source": [
    "BJ model (initialized by MORMSM)"
   ]
  },
  {
   "cell_type": "code",
   "execution_count": null,
   "metadata": {
    "collapsed": false
   },
   "outputs": [],
   "source": [
    "bj3223morsm = pem(data, n, BJ(), MORSM(version=:H))"
   ]
  },
  {
   "cell_type": "markdown",
   "metadata": {},
   "source": [
    "compare identified models"
   ]
  },
  {
   "cell_type": "code",
   "execution_count": null,
   "metadata": {
    "collapsed": false
   },
   "outputs": [],
   "source": [
    "yhat_arx55       = predict(data, arx55)\n",
    "yhat_armax333    = predict(data, armax333)\n",
    "yhat_bj3223      = predict(data, bj3223)\n",
    "yhat_bj3223morsm = predict(data, bj3223morsm)\n",
    "\n",
    "plot(data.y[950:1000],          label=\"y\",          color=\"blue\")\n",
    "plot(yhat_arx55[950:1000],      label=\"arx55\",      color=\"red\")\n",
    "plot(yhat_armax333[950:1000],   label=\"armax333\",   color=\"yellow\")\n",
    "plot(yhat_bj3223[950:1000],     label=\"bj3223\",     color=\"purple\")\n",
    "plot(yhat_bj3223morsm[950:1000],label=\"bj3223morsm\",color=\"black\")\n",
    "legend(loc=\"upper right\", fancybox=\"true\")"
   ]
  },
  {
   "cell_type": "markdown",
   "metadata": {},
   "source": [
    "inspect model"
   ]
  },
  {
   "cell_type": "code",
   "execution_count": null,
   "metadata": {
    "collapsed": false
   },
   "outputs": [],
   "source": [
    "fieldnames(bj3223)"
   ]
  },
  {
   "cell_type": "code",
   "execution_count": null,
   "metadata": {
    "collapsed": false
   },
   "outputs": [],
   "source": [
    "bj3223.info.opt"
   ]
  },
  {
   "cell_type": "code",
   "execution_count": null,
   "metadata": {
    "collapsed": false
   },
   "outputs": [],
   "source": [
    "poles(bj3223.G)"
   ]
  }
 ],
 "metadata": {
  "kernelspec": {
   "display_name": "Julia 0.4.6",
   "language": "julia",
   "name": "julia-0.4"
  },
  "language_info": {
   "file_extension": ".jl",
   "mimetype": "application/julia",
   "name": "julia",
   "version": "0.4.6"
  }
 },
 "nbformat": 4,
 "nbformat_minor": 0
}
