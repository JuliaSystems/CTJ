{
 "cells": [
  {
   "cell_type": "markdown",
   "metadata": {},
   "source": [
    "Add IdentificationToolbox Package to Julia "
   ]
  },
  {
   "cell_type": "code",
   "execution_count": 15,
   "metadata": {
    "collapsed": false
   },
   "outputs": [
    {
     "name": "stderr",
     "output_type": "stream",
     "text": [
      "INFO: Updating METADATA...\n",
      "INFO: Computing changes...\n",
      "INFO: No packages to install, update or remove\n"
     ]
    }
   ],
   "source": [
    "Pkg.update()"
   ]
  },
  {
   "cell_type": "code",
   "execution_count": 16,
   "metadata": {
    "collapsed": false
   },
   "outputs": [
    {
     "name": "stderr",
     "output_type": "stream",
     "text": [
      "INFO: Removing IdentificationToolbox (unregistered)\n",
      "INFO: Removing ControlToolbox (unregistered)\n",
      "INFO: Removing Slicot (unregistered)\n",
      "INFO: Cloning ControlToolbox from http://github.com/neveritt/ControlToolbox.jl\n",
      "INFO: Computing changes...\n",
      "INFO: Cloning cache of DSP from git://github.com/JuliaDSP/DSP.jl.git\n",
      "INFO: Installing DSP v0.1.1\n",
      "INFO: Checking out ControlToolbox lsim...\n",
      "INFO: Pulling ControlToolbox latest lsim...\n",
      "INFO: Removing DSP v0.1.1\n",
      "INFO: Cloning IdentificationToolbox from http://github.com/neveritt/IdentificationToolbox.jl\n",
      "INFO: Computing changes...\n",
      "INFO: No packages to install, update or remove\n",
      "INFO: Cloning Slicot from http://github.com/aytekinar/Slicot.jl\n",
      "INFO: Computing changes...\n",
      "INFO: No packages to install, update or remove\n",
      "INFO: Building Slicot\n",
      "INFO: Attempting to Create directory /home/neveritt/.julia/v0.4/Slicot/deps/builds/libslicot\n",
      "INFO: Changing Directory to /home/neveritt/.julia/v0.4/Slicot/deps/builds/libslicot\n"
     ]
    },
    {
     "name": "stdout",
     "output_type": "stream",
     "text": [
      "-- The Fortran compiler identification is GNU 6.1.1\n",
      "-- Check for working Fortran compiler: /usr/bin/f95\n",
      "-- Check for working Fortran compiler: /usr/bin/f95  -- works\n",
      "-- Detecting Fortran compiler ABI info\n",
      "-- Detecting Fortran compiler ABI info - done\n",
      "-- Checking whether /usr/bin/f95 supports Fortran 90\n",
      "-- Checking whether /usr/bin/f95 supports Fortran 90 -- yes\n",
      "-- ExtLibs: /usr/bin/../lib/julia/libopenblas.so\n",
      "-- Building for Release\n",
      "-- Configuring done\n",
      "-- Generating done\n",
      "-- Build files have been written to: /home/neveritt/.julia/v0.4/Slicot/deps/builds/libslicot\n",
      "Scanning dependencies of target lapack_aux\n",
      "[  0%] Building Fortran object src_aux/CMakeFiles/lapack_aux.dir/dcabs1.f.o\n",
      "[  0%] Building Fortran object src_aux/CMakeFiles/lapack_aux.dir/dhgeqz.f.o\n",
      "[  0%] Building Fortran object src_aux/CMakeFiles/lapack_aux.dir/dlagv2.f.o\n",
      "[  0%] Building Fortran object src_aux/CMakeFiles/lapack_aux.dir/dtgsy2.f.o\n",
      "[  0%] Linking Fortran static library liblapack_aux.a\n",
      "[  0%] Built target lapack_aux\n",
      "Scanning dependencies of target slicot\n",
      "[  1%] Building Fortran object src/CMakeFiles/slicot.dir/AB01MD.f.o\n",
      "[  1%] Building Fortran object src/CMakeFiles/slicot.dir/AB01ND.f.o\n",
      "[  1%] Building Fortran object src/CMakeFiles/slicot.dir/AB01OD.f.o\n",
      "[  1%] Building Fortran object src/CMakeFiles/slicot.dir/AB04MD.f.o\n",
      "[  1%] Building Fortran object src/CMakeFiles/slicot.dir/AB05MD.f.o\n",
      "[  2%] Building Fortran object src/CMakeFiles/slicot.dir/AB05ND.f.o\n",
      "[  2%] Building Fortran object src/CMakeFiles/slicot.dir/AB05OD.f.o\n",
      "[  2%] Building Fortran object src/CMakeFiles/slicot.dir/AB05PD.f.o\n",
      "[  2%] Building Fortran object src/CMakeFiles/slicot.dir/AB05QD.f.o\n",
      "[  2%] Building Fortran object src/CMakeFiles/slicot.dir/AB05RD.f.o\n",
      "[  3%] Building Fortran object src/CMakeFiles/slicot.dir/AB05SD.f.o\n",
      "[  3%] Building Fortran object src/CMakeFiles/slicot.dir/AB07MD.f.o\n",
      "[  3%] Building Fortran object src/CMakeFiles/slicot.dir/AB07ND.f.o\n",
      "[  3%] Building Fortran object src/CMakeFiles/slicot.dir/AB08MD.f.o\n",
      "[  3%] Building Fortran object src/CMakeFiles/slicot.dir/AB08MZ.f.o\n",
      "[  4%] Building Fortran object src/CMakeFiles/slicot.dir/AB08ND.f.o\n",
      "[  4%] Building Fortran object src/CMakeFiles/slicot.dir/AB08NX.f.o\n",
      "[  4%] Building Fortran object src/CMakeFiles/slicot.dir/AB08NZ.f.o\n",
      "[  4%] Building Fortran object src/CMakeFiles/slicot.dir/AB09AD.f.o\n",
      "[  4%] Building Fortran object src/CMakeFiles/slicot.dir/AB09AX.f.o\n",
      "[  5%] Building Fortran object src/CMakeFiles/slicot.dir/AB09BD.f.o\n",
      "[  5%] Building Fortran object src/CMakeFiles/slicot.dir/AB09BX.f.o\n",
      "[  5%] Building Fortran object src/CMakeFiles/slicot.dir/AB09CD.f.o\n",
      "[  5%] Building Fortran object src/CMakeFiles/slicot.dir/AB09CX.f.o\n",
      "[  5%] Building Fortran object src/CMakeFiles/slicot.dir/AB09DD.f.o\n",
      "[  6%] Building Fortran object src/CMakeFiles/slicot.dir/AB09ED.f.o\n",
      "[  6%] Building Fortran object src/CMakeFiles/slicot.dir/AB09FD.f.o\n",
      "[  6%] Building Fortran object src/CMakeFiles/slicot.dir/AB09GD.f.o\n",
      "[  6%] Building Fortran object src/CMakeFiles/slicot.dir/AB09HD.f.o\n",
      "[  6%] Building Fortran object src/CMakeFiles/slicot.dir/AB09HX.f.o\n",
      "[  7%] Building Fortran object src/CMakeFiles/slicot.dir/AB09HY.f.o\n",
      "[  7%] Building Fortran object src/CMakeFiles/slicot.dir/AB09ID.f.o\n",
      "[  7%] Building Fortran object src/CMakeFiles/slicot.dir/AB09IX.f.o\n",
      "[  7%] Building Fortran object src/CMakeFiles/slicot.dir/AB09IY.f.o\n",
      "[  7%] Building Fortran object src/CMakeFiles/slicot.dir/AB09JD.f.o\n",
      "[  8%] Building Fortran object src/CMakeFiles/slicot.dir/AB09JV.f.o\n",
      "[  8%] Building Fortran object src/CMakeFiles/slicot.dir/AB09JW.f.o\n",
      "[  8%] Building Fortran object src/CMakeFiles/slicot.dir/AB09JX.f.o\n",
      "[  8%] Building Fortran object src/CMakeFiles/slicot.dir/AB09KD.f.o\n",
      "[  8%] Building Fortran object src/CMakeFiles/slicot.dir/AB09KX.f.o\n",
      "[  9%] Building Fortran object src/CMakeFiles/slicot.dir/AB09MD.f.o\n",
      "[  9%] Building Fortran object src/CMakeFiles/slicot.dir/AB09ND.f.o\n",
      "[  9%] Building Fortran object src/CMakeFiles/slicot.dir/AB13AD.f.o\n",
      "[  9%] Building Fortran object src/CMakeFiles/slicot.dir/AB13AX.f.o\n",
      "[  9%] Building Fortran object src/CMakeFiles/slicot.dir/AB13BD.f.o\n",
      "[ 10%] Building Fortran object src/CMakeFiles/slicot.dir/AB13CD.f.o\n",
      "[ 10%] Building Fortran object src/CMakeFiles/slicot.dir/AB13DD.f.o\n",
      "[ 10%] Building Fortran object src/CMakeFiles/slicot.dir/AB13DX.f.o\n",
      "[ 10%] Building Fortran object src/CMakeFiles/slicot.dir/AB13ED.f.o\n",
      "[ 10%] Building Fortran object src/CMakeFiles/slicot.dir/AB13FD.f.o\n",
      "[ 11%] Building Fortran object src/CMakeFiles/slicot.dir/AB13MD.f.o\n",
      "[ 11%] Building Fortran object src/CMakeFiles/slicot.dir/AB8NXZ.f.o\n",
      "[ 11%] Building Fortran object src/CMakeFiles/slicot.dir/AG07BD.f.o\n",
      "[ 11%] Building Fortran object src/CMakeFiles/slicot.dir/AG08BD.f.o\n",
      "[ 11%] Building Fortran object src/CMakeFiles/slicot.dir/AG08BY.f.o\n",
      "[ 12%] Building Fortran object src/CMakeFiles/slicot.dir/AG08BZ.f.o\n",
      "[ 12%] Building Fortran object src/CMakeFiles/slicot.dir/AG8BYZ.f.o\n",
      "[ 12%] Building Fortran object src/CMakeFiles/slicot.dir/BB01AD.f.o\n",
      "[ 12%] Building Fortran object src/CMakeFiles/slicot.dir/BB02AD.f.o\n",
      "[ 12%] Building Fortran object src/CMakeFiles/slicot.dir/BB03AD.f.o\n",
      "[ 13%] Building Fortran object src/CMakeFiles/slicot.dir/BB04AD.f.o\n",
      "[ 13%] Building Fortran object src/CMakeFiles/slicot.dir/BD01AD.f.o\n",
      "[ 13%] Building Fortran object src/CMakeFiles/slicot.dir/BD02AD.f.o\n",
      "[ 13%] Building Fortran object src/CMakeFiles/slicot.dir/DE01OD.f.o\n",
      "[ 13%] Building Fortran object src/CMakeFiles/slicot.dir/DE01PD.f.o\n",
      "[ 14%] Building Fortran object src/CMakeFiles/slicot.dir/delctg.f.o\n",
      "[ 14%] Building Fortran object src/CMakeFiles/slicot.dir/DF01MD.f.o\n",
      "[ 14%] Building Fortran object src/CMakeFiles/slicot.dir/DG01MD.f.o\n",
      "[ 14%] Building Fortran object src/CMakeFiles/slicot.dir/DG01ND.f.o\n",
      "[ 14%] Building Fortran object src/CMakeFiles/slicot.dir/DG01NY.f.o\n",
      "[ 15%] Building Fortran object src/CMakeFiles/slicot.dir/DG01OD.f.o\n",
      "[ 15%] Building Fortran object src/CMakeFiles/slicot.dir/DK01MD.f.o\n",
      "[ 15%] Building Fortran object src/CMakeFiles/slicot.dir/FB01QD.f.o\n",
      "[ 15%] Building Fortran object src/CMakeFiles/slicot.dir/FB01RD.f.o\n",
      "[ 15%] Building Fortran object src/CMakeFiles/slicot.dir/FB01SD.f.o\n",
      "[ 16%] Building Fortran object src/CMakeFiles/slicot.dir/FB01TD.f.o\n",
      "[ 16%] Building Fortran object src/CMakeFiles/slicot.dir/FB01VD.f.o\n",
      "[ 16%] Building Fortran object src/CMakeFiles/slicot.dir/FD01AD.f.o\n",
      "[ 16%] Building Fortran object src/CMakeFiles/slicot.dir/IB01AD.f.o\n",
      "[ 16%] Building Fortran object src/CMakeFiles/slicot.dir/IB01BD.f.o\n",
      "[ 17%] Building Fortran object src/CMakeFiles/slicot.dir/IB01CD.f.o\n",
      "[ 17%] Building Fortran object src/CMakeFiles/slicot.dir/IB01MD.f.o\n",
      "[ 17%] Building Fortran object src/CMakeFiles/slicot.dir/IB01MY.f.o\n",
      "[ 17%] Building Fortran object src/CMakeFiles/slicot.dir/IB01ND.f.o\n",
      "[ 17%] Building Fortran object src/CMakeFiles/slicot.dir/IB01OD.f.o\n",
      "[ 18%] Building Fortran object src/CMakeFiles/slicot.dir/IB01OY.f.o\n",
      "[ 18%] Building Fortran object src/CMakeFiles/slicot.dir/IB01PD.f.o\n",
      "[ 18%] Building Fortran object src/CMakeFiles/slicot.dir/IB01PX.f.o\n",
      "[ 18%] Building Fortran object src/CMakeFiles/slicot.dir/IB01PY.f.o\n",
      "[ 18%] Building Fortran object src/CMakeFiles/slicot.dir/IB01QD.f.o\n",
      "[ 19%] Building Fortran object src/CMakeFiles/slicot.dir/IB01RD.f.o\n",
      "[ 19%] Building Fortran object src/CMakeFiles/slicot.dir/IB03AD.f.o\n",
      "[ 19%] Building Fortran object src/CMakeFiles/slicot.dir/IB03BD.f.o\n",
      "[ 19%] Building Fortran object src/CMakeFiles/slicot.dir/MA01AD.f.o\n",
      "[ 19%] Building Fortran object src/CMakeFiles/slicot.dir/MA01BD.f.o\n",
      "[ 20%] Building Fortran object src/CMakeFiles/slicot.dir/MA01CD.f.o\n",
      "[ 20%] Building Fortran object src/CMakeFiles/slicot.dir/MA02AD.f.o\n",
      "[ 20%] Building Fortran object src/CMakeFiles/slicot.dir/MA02BD.f.o\n",
      "[ 20%] Building Fortran object src/CMakeFiles/slicot.dir/MA02BZ.f.o\n",
      "[ 20%] Building Fortran object src/CMakeFiles/slicot.dir/MA02CD.f.o\n",
      "[ 21%] Building Fortran object src/CMakeFiles/slicot.dir/MA02CZ.f.o\n",
      "[ 21%] Building Fortran object src/CMakeFiles/slicot.dir/MA02DD.f.o\n",
      "[ 21%] Building Fortran object src/CMakeFiles/slicot.dir/MA02ED.f.o\n",
      "[ 21%] Building Fortran object src/CMakeFiles/slicot.dir/MA02FD.f.o\n",
      "[ 21%] Building Fortran object src/CMakeFiles/slicot.dir/MA02GD.f.o\n",
      "[ 22%] Building Fortran object src/CMakeFiles/slicot.dir/MA02HD.f.o\n",
      "[ 22%] Building Fortran object src/CMakeFiles/slicot.dir/MA02ID.f.o\n",
      "[ 22%] Building Fortran object src/CMakeFiles/slicot.dir/MA02JD.f.o\n",
      "[ 22%] Building Fortran object src/CMakeFiles/slicot.dir/MB01KD.f.o\n",
      "[ 22%] Building Fortran object src/CMakeFiles/slicot.dir/MB01LD.f.o\n",
      "[ 23%] Building Fortran object src/CMakeFiles/slicot.dir/MB01MD.f.o\n",
      "[ 23%] Building Fortran object src/CMakeFiles/slicot.dir/MB01ND.f.o\n",
      "[ 23%] Building Fortran object src/CMakeFiles/slicot.dir/MB01PD.f.o\n",
      "[ 23%] Building Fortran object src/CMakeFiles/slicot.dir/MB01QD.f.o\n",
      "[ 23%] Building Fortran object src/CMakeFiles/slicot.dir/MB01RD.f.o\n",
      "[ 24%] Building Fortran object src/CMakeFiles/slicot.dir/MB01RU.f.o\n",
      "[ 24%] Building Fortran object src/CMakeFiles/slicot.dir/MB01RW.f.o\n",
      "[ 24%] Building Fortran object src/CMakeFiles/slicot.dir/MB01RX.f.o\n",
      "[ 24%] Building Fortran object src/CMakeFiles/slicot.dir/MB01RY.f.o\n",
      "[ 24%] Building Fortran object src/CMakeFiles/slicot.dir/MB01SD.f.o\n",
      "[ 25%] Building Fortran object src/CMakeFiles/slicot.dir/MB01TD.f.o\n",
      "[ 25%] Building Fortran object src/CMakeFiles/slicot.dir/MB01UD.f.o\n",
      "[ 25%] Building Fortran object src/CMakeFiles/slicot.dir/MB01UW.f.o\n",
      "[ 25%] Building Fortran object src/CMakeFiles/slicot.dir/MB01UX.f.o\n",
      "[ 25%] Building Fortran object src/CMakeFiles/slicot.dir/MB01VD.f.o\n",
      "[ 26%] Building Fortran object src/CMakeFiles/slicot.dir/MB01WD.f.o\n",
      "[ 26%] Building Fortran object src/CMakeFiles/slicot.dir/MB01XD.f.o\n",
      "[ 26%] Building Fortran object src/CMakeFiles/slicot.dir/MB01XY.f.o\n",
      "[ 26%] Building Fortran object src/CMakeFiles/slicot.dir/MB01YD.f.o\n",
      "[ 26%] Building Fortran object src/CMakeFiles/slicot.dir/MB01ZD.f.o\n",
      "[ 27%] Building Fortran object src/CMakeFiles/slicot.dir/MB02CD.f.o\n",
      "[ 27%] Building Fortran object src/CMakeFiles/slicot.dir/MB02CU.f.o\n",
      "[ 27%] Building Fortran object src/CMakeFiles/slicot.dir/MB02CV.f.o\n",
      "[ 27%] Building Fortran object src/CMakeFiles/slicot.dir/MB02CX.f.o\n",
      "[ 27%] Building Fortran object src/CMakeFiles/slicot.dir/MB02CY.f.o\n",
      "[ 28%] Building Fortran object src/CMakeFiles/slicot.dir/MB02DD.f.o\n",
      "[ 28%] Building Fortran object src/CMakeFiles/slicot.dir/MB02ED.f.o\n",
      "[ 28%] Building Fortran object src/CMakeFiles/slicot.dir/MB02FD.f.o\n",
      "[ 28%] Building Fortran object src/CMakeFiles/slicot.dir/MB02GD.f.o\n",
      "[ 28%] Building Fortran object src/CMakeFiles/slicot.dir/MB02HD.f.o\n",
      "[ 29%] Building Fortran object src/CMakeFiles/slicot.dir/MB02ID.f.o\n",
      "[ 29%] Building Fortran object src/CMakeFiles/slicot.dir/MB02JD.f.o\n",
      "[ 29%] Building Fortran object src/CMakeFiles/slicot.dir/MB02JX.f.o\n",
      "[ 29%] Building Fortran object src/CMakeFiles/slicot.dir/MB02KD.f.o\n",
      "[ 29%] Building Fortran object src/CMakeFiles/slicot.dir/MB02MD.f.o\n",
      "[ 30%] Building Fortran object src/CMakeFiles/slicot.dir/MB02ND.f.o\n",
      "[ 30%] Building Fortran object src/CMakeFiles/slicot.dir/MB02NY.f.o\n",
      "[ 30%] Building Fortran object src/CMakeFiles/slicot.dir/MB02OD.f.o\n",
      "[ 30%] Building Fortran object src/CMakeFiles/slicot.dir/MB02PD.f.o\n",
      "[ 30%] Building Fortran object src/CMakeFiles/slicot.dir/MB02QD.f.o\n",
      "[ 31%] Building Fortran object src/CMakeFiles/slicot.dir/MB02QY.f.o\n",
      "[ 31%] Building Fortran object src/CMakeFiles/slicot.dir/MB02RD.f.o\n",
      "[ 31%] Building Fortran object src/CMakeFiles/slicot.dir/MB02RZ.f.o\n",
      "[ 31%] Building Fortran object src/CMakeFiles/slicot.dir/MB02SD.f.o\n",
      "[ 31%] Building Fortran object src/CMakeFiles/slicot.dir/MB02SZ.f.o\n",
      "[ 32%] Building Fortran object src/CMakeFiles/slicot.dir/MB02TD.f.o\n",
      "[ 32%] Building Fortran object src/CMakeFiles/slicot.dir/MB02TZ.f.o\n",
      "[ 32%] Building Fortran object src/CMakeFiles/slicot.dir/MB02UD.f.o\n",
      "[ 32%] Building Fortran object src/CMakeFiles/slicot.dir/MB02UU.f.o\n",
      "[ 32%] Building Fortran object src/CMakeFiles/slicot.dir/MB02UV.f.o\n",
      "[ 33%] Building Fortran object src/CMakeFiles/slicot.dir/MB02UW.f.o\n",
      "[ 33%] Building Fortran object src/CMakeFiles/slicot.dir/MB02VD.f.o\n",
      "[ 33%] Building Fortran object src/CMakeFiles/slicot.dir/MB02WD.f.o\n",
      "[ 33%] Building Fortran object src/CMakeFiles/slicot.dir/MB02XD.f.o\n",
      "[ 33%] Building Fortran object src/CMakeFiles/slicot.dir/MB02YD.f.o\n",
      "[ 33%] Building Fortran object src/CMakeFiles/slicot.dir/MB03AD.f.o\n",
      "[ 34%] Building Fortran object src/CMakeFiles/slicot.dir/MB03BA.f.o\n",
      "[ 34%] Building Fortran object src/CMakeFiles/slicot.dir/MB03BB.f.o\n",
      "[ 34%] Building Fortran object src/CMakeFiles/slicot.dir/MB03BC.f.o\n",
      "[ 34%] Building Fortran object src/CMakeFiles/slicot.dir/MB03BD.f.o\n",
      "[ 34%] Building Fortran object src/CMakeFiles/slicot.dir/MB03BE.f.o\n",
      "[ 35%] Building Fortran object src/CMakeFiles/slicot.dir/MB03CD.f.o\n",
      "[ 35%] Building Fortran object src/CMakeFiles/slicot.dir/MB03DD.f.o\n",
      "[ 35%] Building Fortran object src/CMakeFiles/slicot.dir/MB03ED.f.o\n",
      "[ 35%] Building Fortran object src/CMakeFiles/slicot.dir/MB03FD.f.o\n",
      "[ 35%] Building Fortran object src/CMakeFiles/slicot.dir/MB03GD.f.o\n",
      "[ 36%] Building Fortran object src/CMakeFiles/slicot.dir/MB03HD.f.o\n",
      "[ 36%] Building Fortran object src/CMakeFiles/slicot.dir/MB03ID.f.o\n",
      "[ 36%] Building Fortran object src/CMakeFiles/slicot.dir/MB03JD.f.o\n",
      "[ 36%] Building Fortran object src/CMakeFiles/slicot.dir/MB03KA.f.o\n",
      "[ 36%] Building Fortran object src/CMakeFiles/slicot.dir/MB03KB.f.o\n",
      "[ 37%] Building Fortran object src/CMakeFiles/slicot.dir/MB03KC.f.o\n",
      "[ 37%] Building Fortran object src/CMakeFiles/slicot.dir/MB03KD.f.o\n",
      "[ 37%] Building Fortran object src/CMakeFiles/slicot.dir/MB03KE.f.o\n",
      "[ 37%] Building Fortran object src/CMakeFiles/slicot.dir/MB03LD.f.o\n",
      "[ 37%] Building Fortran object src/CMakeFiles/slicot.dir/MB03MD.f.o\n",
      "[ 38%] Building Fortran object src/CMakeFiles/slicot.dir/MB03MY.f.o\n",
      "[ 38%] Building Fortran object src/CMakeFiles/slicot.dir/MB03ND.f.o\n",
      "[ 38%] Building Fortran object src/CMakeFiles/slicot.dir/MB03NY.f.o\n",
      "[ 38%] Building Fortran object src/CMakeFiles/slicot.dir/MB03OD.f.o\n",
      "[ 38%] Building Fortran object src/CMakeFiles/slicot.dir/MB03OY.f.o\n",
      "[ 39%] Building Fortran object src/CMakeFiles/slicot.dir/MB03PD.f.o\n",
      "[ 39%] Building Fortran object src/CMakeFiles/slicot.dir/MB03PY.f.o\n",
      "[ 39%] Building Fortran object src/CMakeFiles/slicot.dir/MB03QD.f.o\n",
      "[ 39%] Building Fortran object src/CMakeFiles/slicot.dir/MB03QX.f.o\n",
      "[ 39%] Building Fortran object src/CMakeFiles/slicot.dir/MB03QY.f.o\n",
      "[ 40%] Building Fortran object src/CMakeFiles/slicot.dir/MB03RD.f.o\n",
      "[ 40%] Building Fortran object src/CMakeFiles/slicot.dir/MB03RX.f.o\n",
      "[ 40%] Building Fortran object src/CMakeFiles/slicot.dir/MB03RY.f.o\n",
      "[ 40%] Building Fortran object src/CMakeFiles/slicot.dir/MB03SD.f.o\n",
      "[ 40%] Building Fortran object src/CMakeFiles/slicot.dir/MB03TD.f.o\n",
      "[ 41%] Building Fortran object src/CMakeFiles/slicot.dir/MB03TS.f.o\n",
      "[ 41%] Building Fortran object src/CMakeFiles/slicot.dir/MB03UD.f.o\n",
      "[ 41%] Building Fortran object src/CMakeFiles/slicot.dir/MB03VD.f.o\n",
      "[ 41%] Building Fortran object src/CMakeFiles/slicot.dir/MB03VY.f.o\n",
      "[ 41%] Building Fortran object src/CMakeFiles/slicot.dir/MB03WA.f.o\n",
      "[ 42%] Building Fortran object src/CMakeFiles/slicot.dir/MB03WD.f.o\n",
      "[ 42%] Building Fortran object src/CMakeFiles/slicot.dir/MB03WX.f.o\n",
      "[ 42%] Building Fortran object src/CMakeFiles/slicot.dir/MB03XD.f.o\n",
      "[ 42%] Building Fortran object src/CMakeFiles/slicot.dir/MB03XP.f.o\n",
      "[ 42%] Building Fortran object src/CMakeFiles/slicot.dir/MB03XU.f.o\n",
      "[ 43%] Building Fortran object src/CMakeFiles/slicot.dir/MB03YA.f.o\n",
      "[ 43%] Building Fortran object src/CMakeFiles/slicot.dir/MB03YD.f.o\n",
      "[ 43%] Building Fortran object src/CMakeFiles/slicot.dir/MB03YT.f.o\n",
      "[ 43%] Building Fortran object src/CMakeFiles/slicot.dir/MB03ZA.f.o\n",
      "[ 43%] Building Fortran object src/CMakeFiles/slicot.dir/MB03ZD.f.o\n",
      "[ 44%] Building Fortran object src/CMakeFiles/slicot.dir/MB04AD.f.o\n",
      "[ 44%] Building Fortran object src/CMakeFiles/slicot.dir/MB04BD.f.o\n",
      "[ 44%] Building Fortran object src/CMakeFiles/slicot.dir/MB04DD.f.o\n",
      "[ 44%] Building Fortran object src/CMakeFiles/slicot.dir/MB04DI.f.o\n",
      "[ 44%] Building Fortran object src/CMakeFiles/slicot.dir/MB04DS.f.o\n",
      "[ 45%] Building Fortran object src/CMakeFiles/slicot.dir/MB04DY.f.o\n",
      "[ 45%] Building Fortran object src/CMakeFiles/slicot.dir/MB04GD.f.o\n",
      "[ 45%] Building Fortran object src/CMakeFiles/slicot.dir/MB04HD.f.o\n",
      "[ 45%] Building Fortran object src/CMakeFiles/slicot.dir/MB04ID.f.o\n",
      "[ 45%] Building Fortran object src/CMakeFiles/slicot.dir/MB04IY.f.o\n",
      "[ 46%] Building Fortran object src/CMakeFiles/slicot.dir/MB04IZ.f.o\n",
      "[ 46%] Building Fortran object src/CMakeFiles/slicot.dir/MB04JD.f.o\n",
      "[ 46%] Building Fortran object src/CMakeFiles/slicot.dir/MB04KD.f.o\n",
      "[ 46%] Building Fortran object src/CMakeFiles/slicot.dir/MB04LD.f.o\n",
      "[ 46%] Building Fortran object src/CMakeFiles/slicot.dir/MB04MD.f.o\n",
      "[ 47%] Building Fortran object src/CMakeFiles/slicot.dir/MB04ND.f.o\n",
      "[ 47%] Building Fortran object src/CMakeFiles/slicot.dir/MB04NY.f.o\n",
      "[ 47%] Building Fortran object src/CMakeFiles/slicot.dir/MB04OD.f.o\n",
      "[ 47%] Building Fortran object src/CMakeFiles/slicot.dir/MB04OW.f.o\n",
      "[ 47%] Building Fortran object src/CMakeFiles/slicot.dir/MB04OX.f.o\n",
      "[ 48%] Building Fortran object src/CMakeFiles/slicot.dir/MB04OY.f.o\n",
      "[ 48%] Building Fortran object src/CMakeFiles/slicot.dir/MB04PA.f.o\n",
      "[ 48%] Building Fortran object src/CMakeFiles/slicot.dir/MB04PB.f.o\n",
      "[ 48%] Building Fortran object src/CMakeFiles/slicot.dir/MB04PU.f.o\n",
      "[ 48%] Building Fortran object src/CMakeFiles/slicot.dir/MB04PY.f.o\n",
      "[ 49%] Building Fortran object src/CMakeFiles/slicot.dir/MB04QB.f.o\n",
      "[ 49%] Building Fortran object src/CMakeFiles/slicot.dir/MB04QC.f.o\n",
      "[ 49%] Building Fortran object src/CMakeFiles/slicot.dir/MB04QF.f.o\n",
      "[ 49%] Building Fortran object src/CMakeFiles/slicot.dir/MB04QU.f.o\n",
      "[ 49%] Building Fortran object src/CMakeFiles/slicot.dir/MB04SU.f.o\n",
      "[ 50%] Building Fortran object src/CMakeFiles/slicot.dir/MB04TB.f.o\n",
      "[ 50%] Building Fortran object src/CMakeFiles/slicot.dir/MB04TS.f.o\n",
      "[ 50%] Building Fortran object src/CMakeFiles/slicot.dir/MB04TT.f.o\n",
      "[ 50%] Building Fortran object src/CMakeFiles/slicot.dir/MB04TU.f.o\n",
      "[ 50%] Building Fortran object src/CMakeFiles/slicot.dir/MB04TV.f.o\n",
      "[ 51%] Building Fortran object src/CMakeFiles/slicot.dir/MB04TW.f.o\n",
      "[ 51%] Building Fortran object src/CMakeFiles/slicot.dir/MB04TX.f.o\n",
      "[ 51%] Building Fortran object src/CMakeFiles/slicot.dir/MB04TY.f.o\n",
      "[ 51%] Building Fortran object src/CMakeFiles/slicot.dir/MB04UD.f.o\n",
      "[ 51%] Building Fortran object src/CMakeFiles/slicot.dir/MB04VD.f.o\n",
      "[ 52%] Building Fortran object src/CMakeFiles/slicot.dir/MB04VX.f.o\n",
      "[ 52%] Building Fortran object src/CMakeFiles/slicot.dir/MB04WD.f.o\n",
      "[ 52%] Building Fortran object src/CMakeFiles/slicot.dir/MB04WP.f.o\n",
      "[ 52%] Building Fortran object src/CMakeFiles/slicot.dir/MB04WR.f.o\n",
      "[ 52%] Building Fortran object src/CMakeFiles/slicot.dir/MB04WU.f.o\n",
      "[ 53%] Building Fortran object src/CMakeFiles/slicot.dir/MB04XD.f.o\n",
      "[ 53%] Building Fortran object src/CMakeFiles/slicot.dir/MB04XY.f.o\n",
      "[ 53%] Building Fortran object src/CMakeFiles/slicot.dir/MB04YD.f.o\n",
      "[ 53%] Building Fortran object src/CMakeFiles/slicot.dir/MB04YW.f.o\n",
      "[ 53%] Building Fortran object src/CMakeFiles/slicot.dir/MB04ZD.f.o\n",
      "[ 54%] Building Fortran object src/CMakeFiles/slicot.dir/MB05MD.f.o\n",
      "[ 54%] Building Fortran object src/CMakeFiles/slicot.dir/MB05MY.f.o\n",
      "[ 54%] Building Fortran object src/CMakeFiles/slicot.dir/MB05ND.f.o\n",
      "[ 54%] Building Fortran object src/CMakeFiles/slicot.dir/MB05OD.f.o\n",
      "[ 54%] Building Fortran object src/CMakeFiles/slicot.dir/MB05OY.f.o\n",
      "[ 55%] Building Fortran object src/CMakeFiles/slicot.dir/MB3OYZ.f.o\n",
      "[ 55%] Building Fortran object src/CMakeFiles/slicot.dir/MB3PYZ.f.o\n",
      "[ 55%] Building Fortran object src/CMakeFiles/slicot.dir/MC01MD.f.o\n",
      "[ 55%] Building Fortran object src/CMakeFiles/slicot.dir/MC01ND.f.o\n",
      "[ 55%] Building Fortran object src/CMakeFiles/slicot.dir/MC01OD.f.o\n",
      "[ 56%] Building Fortran object src/CMakeFiles/slicot.dir/MC01PD.f.o\n",
      "[ 56%] Building Fortran object src/CMakeFiles/slicot.dir/MC01PY.f.o\n",
      "[ 56%] Building Fortran object src/CMakeFiles/slicot.dir/MC01QD.f.o\n",
      "[ 56%] Building Fortran object src/CMakeFiles/slicot.dir/MC01RD.f.o\n",
      "[ 56%] Building Fortran object src/CMakeFiles/slicot.dir/MC01SD.f.o\n",
      "[ 57%] Building Fortran object src/CMakeFiles/slicot.dir/MC01SW.f.o\n",
      "[ 57%] Building Fortran object src/CMakeFiles/slicot.dir/MC01SX.f.o\n",
      "[ 57%] Building Fortran object src/CMakeFiles/slicot.dir/MC01SY.f.o\n",
      "[ 57%] Building Fortran object src/CMakeFiles/slicot.dir/MC01TD.f.o\n",
      "[ 57%] Building Fortran object src/CMakeFiles/slicot.dir/MC01VD.f.o\n",
      "[ 58%] Building Fortran object src/CMakeFiles/slicot.dir/MC01WD.f.o\n",
      "[ 58%] Building Fortran object src/CMakeFiles/slicot.dir/MC03MD.f.o\n",
      "[ 58%] Building Fortran object src/CMakeFiles/slicot.dir/MC03ND.f.o\n",
      "[ 58%] Building Fortran object src/CMakeFiles/slicot.dir/MC03NX.f.o\n",
      "[ 58%] Building Fortran object src/CMakeFiles/slicot.dir/MC03NY.f.o\n",
      "[ 59%] Building Fortran object src/CMakeFiles/slicot.dir/MD03AD.f.o\n",
      "[ 59%] Building Fortran object src/CMakeFiles/slicot.dir/MD03BA.f.o\n",
      "[ 59%] Building Fortran object src/CMakeFiles/slicot.dir/MD03BB.f.o\n",
      "[ 59%] Building Fortran object src/CMakeFiles/slicot.dir/MD03BD.f.o\n",
      "[ 59%] Building Fortran object src/CMakeFiles/slicot.dir/MD03BF.f.o\n",
      "[ 60%] Building Fortran object src/CMakeFiles/slicot.dir/MD03BX.f.o\n",
      "[ 60%] Building Fortran object src/CMakeFiles/slicot.dir/MD03BY.f.o\n",
      "[ 60%] Building Fortran object src/CMakeFiles/slicot.dir/NF01AD.f.o\n",
      "[ 60%] Building Fortran object src/CMakeFiles/slicot.dir/NF01AY.f.o\n",
      "[ 60%] Building Fortran object src/CMakeFiles/slicot.dir/NF01BA.f.o\n",
      "[ 61%] Building Fortran object src/CMakeFiles/slicot.dir/NF01BB.f.o\n",
      "[ 61%] Building Fortran object src/CMakeFiles/slicot.dir/NF01BD.f.o\n",
      "[ 61%] Building Fortran object src/CMakeFiles/slicot.dir/NF01BE.f.o\n",
      "[ 61%] Building Fortran object src/CMakeFiles/slicot.dir/NF01BF.f.o\n",
      "[ 61%] Building Fortran object src/CMakeFiles/slicot.dir/NF01BP.f.o\n",
      "[ 62%] Building Fortran object src/CMakeFiles/slicot.dir/NF01BQ.f.o\n",
      "[ 62%] Building Fortran object src/CMakeFiles/slicot.dir/NF01BR.f.o\n",
      "[ 62%] Building Fortran object src/CMakeFiles/slicot.dir/NF01BS.f.o\n",
      "[ 62%] Building Fortran object src/CMakeFiles/slicot.dir/NF01BU.f.o\n",
      "[ 62%] Building Fortran object src/CMakeFiles/slicot.dir/NF01BV.f.o\n",
      "[ 63%] Building Fortran object src/CMakeFiles/slicot.dir/NF01BW.f.o\n",
      "[ 63%] Building Fortran object src/CMakeFiles/slicot.dir/NF01BX.f.o\n",
      "[ 63%] Building Fortran object src/CMakeFiles/slicot.dir/NF01BY.f.o\n",
      "[ 63%] Building Fortran object src/CMakeFiles/slicot.dir/SB01BD.f.o\n",
      "[ 63%] Building Fortran object src/CMakeFiles/slicot.dir/SB01BX.f.o\n",
      "[ 64%] Building Fortran object src/CMakeFiles/slicot.dir/SB01BY.f.o\n",
      "[ 64%] Building Fortran object src/CMakeFiles/slicot.dir/SB01DD.f.o\n",
      "[ 64%] Building Fortran object src/CMakeFiles/slicot.dir/SB01FY.f.o\n",
      "[ 64%] Building Fortran object src/CMakeFiles/slicot.dir/SB01MD.f.o\n",
      "[ 64%] Building Fortran object src/CMakeFiles/slicot.dir/SB02CX.f.o\n",
      "[ 65%] Building Fortran object src/CMakeFiles/slicot.dir/SB02MD.f.o\n",
      "[ 65%] Building Fortran object src/CMakeFiles/slicot.dir/SB02MR.f.o\n",
      "[ 65%] Building Fortran object src/CMakeFiles/slicot.dir/SB02MS.f.o\n",
      "[ 65%] Building Fortran object src/CMakeFiles/slicot.dir/SB02MT.f.o\n",
      "[ 65%] Building Fortran object src/CMakeFiles/slicot.dir/SB02MU.f.o\n",
      "[ 66%] Building Fortran object src/CMakeFiles/slicot.dir/SB02MV.f.o\n",
      "[ 66%] Building Fortran object src/CMakeFiles/slicot.dir/SB02MW.f.o\n",
      "[ 66%] Building Fortran object src/CMakeFiles/slicot.dir/SB02ND.f.o\n",
      "[ 66%] Building Fortran object src/CMakeFiles/slicot.dir/SB02OD.f.o\n",
      "[ 66%] Building Fortran object src/CMakeFiles/slicot.dir/SB02OU.f.o\n",
      "[ 66%] Building Fortran object src/CMakeFiles/slicot.dir/SB02OV.f.o\n",
      "[ 67%] Building Fortran object src/CMakeFiles/slicot.dir/SB02OW.f.o\n",
      "[ 67%] Building Fortran object src/CMakeFiles/slicot.dir/SB02OX.f.o\n",
      "[ 67%] Building Fortran object src/CMakeFiles/slicot.dir/SB02OY.f.o\n",
      "[ 67%] Building Fortran object src/CMakeFiles/slicot.dir/SB02PD.f.o\n",
      "[ 67%] Building Fortran object src/CMakeFiles/slicot.dir/SB02QD.f.o\n",
      "[ 68%] Building Fortran object src/CMakeFiles/slicot.dir/SB02RD.f.o\n",
      "[ 68%] Building Fortran object src/CMakeFiles/slicot.dir/SB02RU.f.o\n",
      "[ 68%] Building Fortran object src/CMakeFiles/slicot.dir/SB02SD.f.o\n",
      "[ 68%] Building Fortran object src/CMakeFiles/slicot.dir/SB03MD.f.o\n",
      "[ 68%] Building Fortran object src/CMakeFiles/slicot.dir/SB03MU.f.o\n",
      "[ 69%] Building Fortran object src/CMakeFiles/slicot.dir/SB03MV.f.o\n",
      "[ 69%] Building Fortran object src/CMakeFiles/slicot.dir/SB03MW.f.o\n",
      "[ 69%] Building Fortran object src/CMakeFiles/slicot.dir/SB03MX.f.o\n",
      "[ 69%] Building Fortran object src/CMakeFiles/slicot.dir/SB03MY.f.o\n",
      "[ 69%] Building Fortran object src/CMakeFiles/slicot.dir/SB03OD.f.o\n",
      "[ 70%] Building Fortran object src/CMakeFiles/slicot.dir/SB03OR.f.o\n",
      "[ 70%] Building Fortran object src/CMakeFiles/slicot.dir/SB03OT.f.o\n",
      "[ 70%] Building Fortran object src/CMakeFiles/slicot.dir/SB03OU.f.o\n",
      "[ 70%] Building Fortran object src/CMakeFiles/slicot.dir/SB03OV.f.o\n",
      "[ 70%] Building Fortran object src/CMakeFiles/slicot.dir/SB03OY.f.o\n",
      "[ 71%] Building Fortran object src/CMakeFiles/slicot.dir/SB03PD.f.o\n",
      "[ 71%] Building Fortran object src/CMakeFiles/slicot.dir/SB03QD.f.o\n",
      "[ 71%] Building Fortran object src/CMakeFiles/slicot.dir/SB03QX.f.o\n",
      "[ 71%] Building Fortran object src/CMakeFiles/slicot.dir/SB03QY.f.o\n",
      "[ 71%] Building Fortran object src/CMakeFiles/slicot.dir/SB03RD.f.o\n",
      "[ 72%] Building Fortran object src/CMakeFiles/slicot.dir/SB03SD.f.o\n",
      "[ 72%] Building Fortran object src/CMakeFiles/slicot.dir/SB03SX.f.o\n",
      "[ 72%] Building Fortran object src/CMakeFiles/slicot.dir/SB03SY.f.o\n",
      "[ 72%] Building Fortran object src/CMakeFiles/slicot.dir/SB03TD.f.o\n",
      "[ 72%] Building Fortran object src/CMakeFiles/slicot.dir/SB03UD.f.o\n",
      "[ 73%] Building Fortran object src/CMakeFiles/slicot.dir/SB04MD.f.o\n",
      "[ 73%] Building Fortran object src/CMakeFiles/slicot.dir/SB04MR.f.o\n",
      "[ 73%] Building Fortran object src/CMakeFiles/slicot.dir/SB04MU.f.o\n",
      "[ 73%] Building Fortran object src/CMakeFiles/slicot.dir/SB04MW.f.o\n",
      "[ 73%] Building Fortran object src/CMakeFiles/slicot.dir/SB04MY.f.o\n",
      "[ 74%] Building Fortran object src/CMakeFiles/slicot.dir/SB04ND.f.o\n",
      "[ 74%] Building Fortran object src/CMakeFiles/slicot.dir/SB04NV.f.o\n",
      "[ 74%] Building Fortran object src/CMakeFiles/slicot.dir/SB04NW.f.o\n",
      "[ 74%] Building Fortran object src/CMakeFiles/slicot.dir/SB04NX.f.o\n",
      "[ 74%] Building Fortran object src/CMakeFiles/slicot.dir/SB04NY.f.o\n",
      "[ 75%] Building Fortran object src/CMakeFiles/slicot.dir/SB04OD.f.o\n",
      "[ 75%] Building Fortran object src/CMakeFiles/slicot.dir/SB04OW.f.o\n",
      "[ 75%] Building Fortran object src/CMakeFiles/slicot.dir/SB04PD.f.o\n",
      "[ 75%] Building Fortran object src/CMakeFiles/slicot.dir/SB04PX.f.o\n",
      "[ 75%] Building Fortran object src/CMakeFiles/slicot.dir/SB04PY.f.o\n",
      "[ 76%] Building Fortran object src/CMakeFiles/slicot.dir/SB04QD.f.o\n",
      "[ 76%] Building Fortran object src/CMakeFiles/slicot.dir/SB04QR.f.o\n",
      "[ 76%] Building Fortran object src/CMakeFiles/slicot.dir/SB04QU.f.o\n",
      "[ 76%] Building Fortran object src/CMakeFiles/slicot.dir/SB04QY.f.o\n",
      "[ 76%] Building Fortran object src/CMakeFiles/slicot.dir/SB04RD.f.o\n",
      "[ 77%] Building Fortran object src/CMakeFiles/slicot.dir/SB04RV.f.o\n",
      "[ 77%] Building Fortran object src/CMakeFiles/slicot.dir/SB04RW.f.o\n",
      "[ 77%] Building Fortran object src/CMakeFiles/slicot.dir/SB04RX.f.o\n",
      "[ 77%] Building Fortran object src/CMakeFiles/slicot.dir/SB04RY.f.o\n",
      "[ 77%] Building Fortran object src/CMakeFiles/slicot.dir/SB06ND.f.o\n",
      "[ 78%] Building Fortran object src/CMakeFiles/slicot.dir/SB08CD.f.o\n",
      "[ 78%] Building Fortran object src/CMakeFiles/slicot.dir/SB08DD.f.o\n",
      "[ 78%] Building Fortran object src/CMakeFiles/slicot.dir/SB08ED.f.o\n",
      "[ 78%] Building Fortran object src/CMakeFiles/slicot.dir/SB08FD.f.o\n",
      "[ 78%] Building Fortran object src/CMakeFiles/slicot.dir/SB08GD.f.o\n",
      "[ 79%] Building Fortran object src/CMakeFiles/slicot.dir/SB08HD.f.o\n",
      "[ 79%] Building Fortran object src/CMakeFiles/slicot.dir/SB08MD.f.o\n",
      "[ 79%] Building Fortran object src/CMakeFiles/slicot.dir/SB08MY.f.o\n",
      "[ 79%] Building Fortran object src/CMakeFiles/slicot.dir/SB08ND.f.o\n",
      "[ 79%] Building Fortran object src/CMakeFiles/slicot.dir/SB08NY.f.o\n",
      "[ 80%] Building Fortran object src/CMakeFiles/slicot.dir/SB09MD.f.o\n",
      "[ 80%] Building Fortran object src/CMakeFiles/slicot.dir/SB10AD.f.o\n",
      "[ 80%] Building Fortran object src/CMakeFiles/slicot.dir/SB10DD.f.o\n",
      "[ 80%] Building Fortran object src/CMakeFiles/slicot.dir/SB10ED.f.o\n",
      "[ 80%] Building Fortran object src/CMakeFiles/slicot.dir/SB10FD.f.o\n",
      "[ 81%] Building Fortran object src/CMakeFiles/slicot.dir/SB10HD.f.o\n",
      "[ 81%] Building Fortran object src/CMakeFiles/slicot.dir/SB10ID.f.o\n",
      "[ 81%] Building Fortran object src/CMakeFiles/slicot.dir/SB10JD.f.o\n",
      "[ 81%] Building Fortran object src/CMakeFiles/slicot.dir/SB10KD.f.o\n",
      "[ 81%] Building Fortran object src/CMakeFiles/slicot.dir/SB10LD.f.o\n",
      "[ 82%] Building Fortran object src/CMakeFiles/slicot.dir/SB10MD.f.o\n",
      "[ 82%] Building Fortran object src/CMakeFiles/slicot.dir/SB10PD.f.o\n",
      "[ 82%] Building Fortran object src/CMakeFiles/slicot.dir/SB10QD.f.o\n",
      "[ 82%] Building Fortran object src/CMakeFiles/slicot.dir/SB10RD.f.o\n",
      "[ 82%] Building Fortran object src/CMakeFiles/slicot.dir/SB10SD.f.o\n",
      "[ 83%] Building Fortran object src/CMakeFiles/slicot.dir/SB10TD.f.o\n",
      "[ 83%] Building Fortran object src/CMakeFiles/slicot.dir/SB10UD.f.o\n",
      "[ 83%] Building Fortran object src/CMakeFiles/slicot.dir/SB10VD.f.o\n",
      "[ 83%] Building Fortran object src/CMakeFiles/slicot.dir/SB10WD.f.o\n",
      "[ 83%] Building Fortran object src/CMakeFiles/slicot.dir/SB10YD.f.o\n",
      "[ 84%] Building Fortran object src/CMakeFiles/slicot.dir/SB10ZD.f.o\n",
      "[ 84%] Building Fortran object src/CMakeFiles/slicot.dir/SB10ZP.f.o\n",
      "[ 84%] Building Fortran object src/CMakeFiles/slicot.dir/SB16AD.f.o\n",
      "[ 84%] Building Fortran object src/CMakeFiles/slicot.dir/SB16AY.f.o\n",
      "[ 84%] Building Fortran object src/CMakeFiles/slicot.dir/SB16BD.f.o\n",
      "[ 85%] Building Fortran object src/CMakeFiles/slicot.dir/SB16CD.f.o\n",
      "[ 85%] Building Fortran object src/CMakeFiles/slicot.dir/SB16CY.f.o\n",
      "[ 85%] Building Fortran object src/CMakeFiles/slicot.dir/select.f.o\n",
      "[ 85%] Building Fortran object src/CMakeFiles/slicot.dir/SG02AD.f.o\n",
      "[ 85%] Building Fortran object src/CMakeFiles/slicot.dir/SG03AD.f.o\n",
      "[ 86%] Building Fortran object src/CMakeFiles/slicot.dir/SG03AX.f.o\n",
      "[ 86%] Building Fortran object src/CMakeFiles/slicot.dir/SG03AY.f.o\n",
      "[ 86%] Building Fortran object src/CMakeFiles/slicot.dir/SG03BD.f.o\n",
      "[ 86%] Building Fortran object src/CMakeFiles/slicot.dir/SG03BU.f.o\n",
      "[ 86%] Building Fortran object src/CMakeFiles/slicot.dir/SG03BV.f.o\n",
      "[ 87%] Building Fortran object src/CMakeFiles/slicot.dir/SG03BW.f.o\n",
      "[ 87%] Building Fortran object src/CMakeFiles/slicot.dir/SG03BX.f.o\n",
      "[ 87%] Building Fortran object src/CMakeFiles/slicot.dir/SG03BY.f.o\n",
      "[ 87%] Building Fortran object src/CMakeFiles/slicot.dir/TB01ID.f.o\n",
      "[ 87%] Building Fortran object src/CMakeFiles/slicot.dir/TB01IZ.f.o\n",
      "[ 88%] Building Fortran object src/CMakeFiles/slicot.dir/TB01KD.f.o\n",
      "[ 88%] Building Fortran object src/CMakeFiles/slicot.dir/TB01LD.f.o\n",
      "[ 88%] Building Fortran object src/CMakeFiles/slicot.dir/TB01MD.f.o\n",
      "[ 88%] Building Fortran object src/CMakeFiles/slicot.dir/TB01ND.f.o\n",
      "[ 88%] Building Fortran object src/CMakeFiles/slicot.dir/TB01PD.f.o\n",
      "[ 89%] Building Fortran object src/CMakeFiles/slicot.dir/TB01TD.f.o\n",
      "[ 89%] Building Fortran object src/CMakeFiles/slicot.dir/TB01TY.f.o\n",
      "[ 89%] Building Fortran object src/CMakeFiles/slicot.dir/TB01UD.f.o\n",
      "[ 89%] Building Fortran object src/CMakeFiles/slicot.dir/TB01VD.f.o\n",
      "[ 89%] Building Fortran object src/CMakeFiles/slicot.dir/TB01VY.f.o\n",
      "[ 90%] Building Fortran object src/CMakeFiles/slicot.dir/TB01WD.f.o\n",
      "[ 90%] Building Fortran object src/CMakeFiles/slicot.dir/TB01XD.f.o\n",
      "[ 90%] Building Fortran object src/CMakeFiles/slicot.dir/TB01XZ.f.o\n",
      "[ 90%] Building Fortran object src/CMakeFiles/slicot.dir/TB01YD.f.o\n",
      "[ 90%] Building Fortran object src/CMakeFiles/slicot.dir/TB01ZD.f.o\n",
      "[ 91%] Building Fortran object src/CMakeFiles/slicot.dir/TB03AD.f.o\n",
      "[ 91%] Building Fortran object src/CMakeFiles/slicot.dir/TB03AY.f.o\n",
      "[ 91%] Building Fortran object src/CMakeFiles/slicot.dir/TB04AD.f.o\n",
      "[ 91%] Building Fortran object src/CMakeFiles/slicot.dir/TB04AY.f.o\n",
      "[ 91%] Building Fortran object src/CMakeFiles/slicot.dir/TB04BD.f.o\n",
      "[ 92%] Building Fortran object src/CMakeFiles/slicot.dir/TB04BV.f.o\n",
      "[ 92%] Building Fortran object src/CMakeFiles/slicot.dir/TB04BW.f.o\n",
      "[ 92%] Building Fortran object src/CMakeFiles/slicot.dir/TB04BX.f.o\n",
      "[ 92%] Building Fortran object src/CMakeFiles/slicot.dir/TB04CD.f.o\n",
      "[ 92%] Building Fortran object src/CMakeFiles/slicot.dir/TB05AD.f.o\n",
      "[ 93%] Building Fortran object src/CMakeFiles/slicot.dir/TC01OD.f.o\n",
      "[ 93%] Building Fortran object src/CMakeFiles/slicot.dir/TC04AD.f.o\n",
      "[ 93%] Building Fortran object src/CMakeFiles/slicot.dir/TC05AD.f.o\n",
      "[ 93%] Building Fortran object src/CMakeFiles/slicot.dir/TD03AD.f.o\n",
      "[ 93%] Building Fortran object src/CMakeFiles/slicot.dir/TD03AY.f.o\n",
      "[ 94%] Building Fortran object src/CMakeFiles/slicot.dir/TD04AD.f.o\n",
      "[ 94%] Building Fortran object src/CMakeFiles/slicot.dir/TD05AD.f.o\n",
      "[ 94%] Building Fortran object src/CMakeFiles/slicot.dir/TF01MD.f.o\n",
      "[ 94%] Building Fortran object src/CMakeFiles/slicot.dir/TF01MX.f.o\n",
      "[ 94%] Building Fortran object src/CMakeFiles/slicot.dir/TF01MY.f.o\n",
      "[ 95%] Building Fortran object src/CMakeFiles/slicot.dir/TF01ND.f.o\n",
      "[ 95%] Building Fortran object src/CMakeFiles/slicot.dir/TF01OD.f.o\n",
      "[ 95%] Building Fortran object src/CMakeFiles/slicot.dir/TF01PD.f.o\n",
      "[ 95%] Building Fortran object src/CMakeFiles/slicot.dir/TF01QD.f.o\n",
      "[ 95%] Building Fortran object src/CMakeFiles/slicot.dir/TF01RD.f.o\n",
      "[ 96%] Building Fortran object src/CMakeFiles/slicot.dir/TG01AD.f.o\n",
      "[ 96%] Building Fortran object src/CMakeFiles/slicot.dir/TG01AZ.f.o\n",
      "[ 96%] Building Fortran object src/CMakeFiles/slicot.dir/TG01BD.f.o\n",
      "[ 96%] Building Fortran object src/CMakeFiles/slicot.dir/TG01CD.f.o\n",
      "[ 96%] Building Fortran object src/CMakeFiles/slicot.dir/TG01DD.f.o\n",
      "[ 97%] Building Fortran object src/CMakeFiles/slicot.dir/TG01ED.f.o\n",
      "[ 97%] Building Fortran object src/CMakeFiles/slicot.dir/TG01FD.f.o\n",
      "[ 97%] Building Fortran object src/CMakeFiles/slicot.dir/TG01FZ.f.o\n",
      "[ 97%] Building Fortran object src/CMakeFiles/slicot.dir/TG01HD.f.o\n",
      "[ 97%] Building Fortran object src/CMakeFiles/slicot.dir/TG01HX.f.o\n",
      "[ 98%] Building Fortran object src/CMakeFiles/slicot.dir/TG01ID.f.o\n",
      "[ 98%] Building Fortran object src/CMakeFiles/slicot.dir/TG01JD.f.o\n",
      "[ 98%] Building Fortran object src/CMakeFiles/slicot.dir/TG01WD.f.o\n",
      "[ 98%] Building Fortran object src/CMakeFiles/slicot.dir/UD01BD.f.o\n",
      "[ 98%] Building Fortran object src/CMakeFiles/slicot.dir/UD01CD.f.o\n",
      "[ 99%] Building Fortran object src/CMakeFiles/slicot.dir/UD01DD.f.o\n",
      "[ 99%] Building Fortran object src/CMakeFiles/slicot.dir/UD01MD.f.o\n",
      "[ 99%] Building Fortran object src/CMakeFiles/slicot.dir/UD01MZ.f.o\n",
      "[ 99%] Building Fortran object src/CMakeFiles/slicot.dir/UD01ND.f.o\n",
      "[ 99%] Building Fortran object src/CMakeFiles/slicot.dir/UE01MD.f.o\n",
      "[100%] Linking Fortran shared library libslicot.so\n",
      "[100%] Built target slicot\n",
      "Install the project...\n",
      "-- Install configuration: \"Release\"\n",
      "-- Installing: /home/neveritt/.julia/v0.4/Slicot/deps/usr/lib/libslicot.so\n",
      "-- Set runtime path of \"/home/neveritt/.julia/v0.4/Slicot/deps/usr/lib/libslicot.so\" to \"\"\n"
     ]
    },
    {
     "name": "stderr",
     "output_type": "stream",
     "text": [
      "INFO: Nothing to be done\n",
      "INFO: Nothing to be done\n",
      "INFO: Nothing to be done\n",
      "INFO: Updating METADATA...\n",
      "INFO: Updating Slicot...\n",
      "INFO: Updating ControlToolbox...\n",
      "INFO: Updating IdentificationToolbox...\n",
      "INFO: Computing changes...\n",
      "INFO: No packages to install, update or remove\n"
     ]
    }
   ],
   "source": [
    "Pkg.rm(\"IdentificationToolbox\")\n",
    "Pkg.rm(\"ControlToolbox\")\n",
    "Pkg.rm(\"Slicot\")\n",
    "Pkg.clone(\"http://github.com/neveritt/ControlToolbox.jl\")\n",
    "Pkg.checkout(\"ControlToolbox\",\"lsim\")\n",
    "Pkg.clone(\"http://github.com/neveritt/IdentificationToolbox.jl\")\n",
    "Pkg.clone(\"http://github.com/aytekinar/Slicot.jl\")\n",
    "Pkg.build(\"Slicot\")\n",
    "Pkg.add(\"Polynomials\")\n",
    "Pkg.add(\"ToeplitzMatrices\")\n",
    "Pkg.add(\"PyPlot\")\n",
    "Pkg.update()"
   ]
  },
  {
   "cell_type": "markdown",
   "metadata": {},
   "source": [
    "Load the packages"
   ]
  },
  {
   "cell_type": "code",
   "execution_count": 17,
   "metadata": {
    "collapsed": false
   },
   "outputs": [],
   "source": [
    "using IdentificationToolbox\n",
    "using ControlCore\n",
    "using PyPlot"
   ]
  },
  {
   "cell_type": "markdown",
   "metadata": {},
   "source": [
    "Define the true system"
   ]
  },
  {
   "cell_type": "code",
   "execution_count": 18,
   "metadata": {
    "collapsed": false
   },
   "outputs": [],
   "source": [
    "b = [0.1, 0.3, 0.2]\n",
    "c = [0.5, 0.08]\n",
    "d = [0.8, 0.1]\n",
    "f = [0.5, 0.2, 0.1]\n",
    "B = [0;b]\n",
    "C = [1;c]\n",
    "D = [1;d]\n",
    "F = [1;f]\n",
    "Ts = 0.1\n",
    "nk = 1;"
   ]
  },
  {
   "cell_type": "markdown",
   "metadata": {},
   "source": [
    "Create some data and save the data in an iddata object"
   ]
  },
  {
   "cell_type": "code",
   "execution_count": 19,
   "metadata": {
    "collapsed": false
   },
   "outputs": [
    {
     "data": {
      "text/plain": [
       "Discrete-time data set with 1000 samples.\n",
       "Sampling time: 0.1 seconds\n"
      ]
     },
     "execution_count": 19,
     "metadata": {},
     "output_type": "execute_result"
    }
   ],
   "source": [
    "N = 1000\n",
    "u = randn(N)\n",
    "lambda = 1\n",
    "e = sqrt(lambda)*randn(N)\n",
    "y = filt(B,F,u) + filt(C,D,e)\n",
    "data = iddata(y,u,Ts)"
   ]
  },
  {
   "cell_type": "markdown",
   "metadata": {
    "collapsed": true
   },
   "source": [
    "Identify an arx model"
   ]
  },
  {
   "cell_type": "code",
   "execution_count": 20,
   "metadata": {
    "collapsed": false
   },
   "outputs": [
    {
     "data": {
      "text/plain": [
       "mimo(nx=1x2 Array{Int64,2}:\n",
       " 9  10,ny=1,nu=2,Ts=0.1)"
      ]
     },
     "execution_count": 20,
     "metadata": {},
     "output_type": "execute_result"
    }
   ],
   "source": [
    "na, nb = 5, 5\n",
    "n = [na; nb; nk]\n",
    "arx55 = arx(data,n)\n"
   ]
  },
  {
   "cell_type": "markdown",
   "metadata": {
    "collapsed": true
   },
   "source": [
    "Identify an armax model (initialized by iv4)"
   ]
  },
  {
   "cell_type": "code",
   "execution_count": 21,
   "metadata": {
    "collapsed": false
   },
   "outputs": [
    {
     "data": {
      "text/plain": [
       "mimo(nx=1x2 Array{Int64,2}:\n",
       " 5  6,ny=1,nu=2,Ts=0.1)"
      ]
     },
     "execution_count": 21,
     "metadata": {},
     "output_type": "execute_result"
    }
   ],
   "source": [
    "na, nb, nc = 3, 3, 3\n",
    "n = [na; nb; nc; nk]\n",
    "armax333 = armax(data,n)"
   ]
  },
  {
   "cell_type": "markdown",
   "metadata": {},
   "source": [
    "BJ model (initialized at true parameters)"
   ]
  },
  {
   "cell_type": "code",
   "execution_count": 22,
   "metadata": {
    "collapsed": false
   },
   "outputs": [
    {
     "data": {
      "text/plain": [
       "mimo(nx=1x2 Array{Int64,2}:\n",
       " 5  4,ny=1,nu=2,Ts=0.1)"
      ]
     },
     "execution_count": 22,
     "metadata": {},
     "output_type": "execute_result"
    }
   ],
   "source": [
    "nb, nc, nd, nf = 3, 2, 2, 3\n",
    "n = [nb; nc; nd; nf; nk]\n",
    "bj3223 = pem(data, n, [b;c;d;f], BJ())"
   ]
  },
  {
   "cell_type": "markdown",
   "metadata": {},
   "source": [
    "BJ model (initialized by MORMSM)"
   ]
  },
  {
   "cell_type": "code",
   "execution_count": 23,
   "metadata": {
    "collapsed": false
   },
   "outputs": [
    {
     "data": {
      "text/plain": [
       "mimo(nx=1x2 Array{Int64,2}:\n",
       " 5  4,ny=1,nu=2,Ts=0.1)"
      ]
     },
     "execution_count": 23,
     "metadata": {},
     "output_type": "execute_result"
    }
   ],
   "source": [
    "bj3223morsm = pem(data, n, BJ(), MORSM(version=:H))"
   ]
  },
  {
   "cell_type": "markdown",
   "metadata": {},
   "source": [
    "compare identified models"
   ]
  },
  {
   "cell_type": "code",
   "execution_count": 24,
   "metadata": {
    "collapsed": false
   },
   "outputs": [
    {
     "data": {
      "image/png": "[encoded data removed]",
      "text/plain": [
       "PyPlot.Figure(PyObject <matplotlib.figure.Figure object at 0x7fc319d06e48>)"
      ]
     },
     "metadata": {},
     "output_type": "display_data"
    },
    {
     "data": {
      "text/plain": [
       "PyObject <matplotlib.legend.Legend object at 0x7fc318388d68>"
      ]
     },
     "execution_count": 24,
     "metadata": {},
     "output_type": "execute_result"
    }
   ],
   "source": [
    "yhat_arx55 = predict(data, arx55)\n",
    "yhat_armax333 = predict(data, armax333)\n",
    "yhat_bj3223 = predict(data, bj3223)\n",
    "yhat_bj3223morsm = predict(data, bj3223morsm)\n",
    "\n",
    "plot(data.y[950:1000],color=\"blue\")\n",
    "plot(yhat_arx55[950:1000],label=\"arx55\")\n",
    "plot(yhat_armax333[950:1000],label=\"armax333\")\n",
    "plot(yhat_bj3223[950:1000],label=\"bj3223\")\n",
    "plot(yhat_bj3223morsm[950:1000],label=\"bj3223morsm\")\n",
    "legend(loc=\"upper right\",fancybox=\"true\")"
   ]
  },
  {
   "cell_type": "markdown",
   "metadata": {},
   "source": [
    "inspect model"
   ]
  },
  {
   "cell_type": "code",
   "execution_count": 12,
   "metadata": {
    "collapsed": false
   },
   "outputs": [
    {
     "data": {
      "text/plain": [
       "8-element Array{Symbol,1}:\n",
       " :A   \n",
       " :B   \n",
       " :C   \n",
       " :D   \n",
       " :F   \n",
       " :G   \n",
       " :H   \n",
       " :info"
      ]
     },
     "execution_count": 12,
     "metadata": {},
     "output_type": "execute_result"
    }
   ],
   "source": [
    "fieldnames(bj3223)"
   ]
  },
  {
   "cell_type": "code",
   "execution_count": 13,
   "metadata": {
    "collapsed": false
   },
   "outputs": [
    {
     "data": {
      "text/plain": [
       "Results of Optimization Algorithm\n",
       " * Algorithm: Newton's Method\n",
       " * Starting Point: [0.1,0.3, ...]\n",
       " * Minimizer: [0.10000108962229698,0.3000188593561042, ...]\n",
       " * Minimum: 9.363705e-01\n",
       " * Iterations: 1\n",
       " * Convergence: true\n",
       "   * |x - x'| < 1.0e-32: false\n",
       "   * |f(x) - f(x')| / |f(x)| < 1.0e-32: true\n",
       "   * |g(x)| < 1.0e-16: false\n",
       "   * Reached Maximum Number of Iterations: false\n",
       " * Objective Function Calls: 67\n",
       " * Gradient Calls: 67"
      ]
     },
     "execution_count": 13,
     "metadata": {},
     "output_type": "execute_result"
    }
   ],
   "source": [
    "bj3223.info.opt"
   ]
  },
  {
   "cell_type": "code",
   "execution_count": 14,
   "metadata": {
    "collapsed": false
   },
   "outputs": [
    {
     "data": {
      "text/plain": [
       "3-element Array{Complex{Float64},1}:\n",
       " 5.23519e-5+0.447201im\n",
       " 5.23519e-5-0.447201im\n",
       "  -0.500006+0.0im     "
      ]
     },
     "execution_count": 14,
     "metadata": {},
     "output_type": "execute_result"
    }
   ],
   "source": [
    "poles(bj3223.G)"
   ]
  },
  {
   "cell_type": "code",
   "execution_count": null,
   "metadata": {
    "collapsed": true
   },
   "outputs": [],
   "source": []
  }
 ],
 "metadata": {
  "kernelspec": {
   "display_name": "Julia 0.4.6",
   "language": "julia",
   "name": "julia-0.4"
  },
  "language_info": {
   "file_extension": ".jl",
   "mimetype": "application/julia",
   "name": "julia",
   "version": "0.4.6"
  }
 },
 "nbformat": 4,
 "nbformat_minor": 0
}
